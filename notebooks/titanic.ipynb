{
 "cells": [
  {
   "cell_type": "code",
   "execution_count": 1,
   "metadata": {
    "id": "L3Vp_A8-UyYm"
   },
   "outputs": [
    {
     "name": "stderr",
     "output_type": "stream",
     "text": [
      "/opt/conda/lib/python3.9/site-packages/statsmodels/compat/pandas.py:65: FutureWarning: pandas.Int64Index is deprecated and will be removed from pandas in a future version. Use pandas.Index with the appropriate dtype instead.\n",
      "  from pandas import Int64Index as NumericIndex\n"
     ]
    }
   ],
   "source": [
    "import pandas as pd\n",
    "import matplotlib.pyplot as plt\n",
    "import statsmodels.api as sm\n",
    "from sklearn.metrics import roc_curve, auc\n",
    "from sklearn.metrics import roc_auc_score\n",
    "from sklearn.model_selection import train_test_split\n",
    "from sklearn.tree import DecisionTreeClassifier, plot_tree\n",
    "from sklearn import metrics\n",
    "from sklearn.metrics import (confusion_matrix, accuracy_score)"
   ]
  },
  {
   "cell_type": "code",
   "execution_count": 2,
   "metadata": {
    "id": "xjMH4HPNUyYr"
   },
   "outputs": [],
   "source": [
    "# if you are interested in building a model and predicting\n",
    "# who survived for a holdout sample, please take a look at:\n",
    "# https://www.kaggle.com/c/titanic/overview\n",
    "\n",
    "df = pd.read_csv('datasets/titanic.csv')\n",
    "df = df.set_index('PassengerId')"
   ]
  },
  {
   "cell_type": "markdown",
   "metadata": {
    "id": "FBWPGKgtXth1"
   },
   "source": []
  },
  {
   "cell_type": "code",
   "execution_count": 3,
   "metadata": {
    "id": "tn-cfPVnPmxM"
   },
   "outputs": [],
   "source": [
    "dummies = pd.get_dummies(df['Sex'], drop_first=True)\n",
    "df = pd.concat([df, dummies], axis = 1)\n",
    "dummies = pd.get_dummies(df['Embarked'], drop_first=True)\n",
    "df = pd.concat([df, dummies], axis = 1)"
   ]
  },
  {
   "cell_type": "code",
   "execution_count": 4,
   "metadata": {
    "colab": {
     "base_uri": "https://localhost:8080/",
     "height": 579
    },
    "id": "qmk_jEBNYhOf",
    "outputId": "cd871b0c-92b3-41f9-c53f-90bfa6111182"
   },
   "outputs": [
    {
     "data": {
      "text/html": [
       "<div>\n",
       "<style scoped>\n",
       "    .dataframe tbody tr th:only-of-type {\n",
       "        vertical-align: middle;\n",
       "    }\n",
       "\n",
       "    .dataframe tbody tr th {\n",
       "        vertical-align: top;\n",
       "    }\n",
       "\n",
       "    .dataframe thead th {\n",
       "        text-align: right;\n",
       "    }\n",
       "</style>\n",
       "<table border=\"1\" class=\"dataframe\">\n",
       "  <thead>\n",
       "    <tr style=\"text-align: right;\">\n",
       "      <th></th>\n",
       "      <th>Survived</th>\n",
       "      <th>Pclass</th>\n",
       "      <th>Name</th>\n",
       "      <th>Sex</th>\n",
       "      <th>Age</th>\n",
       "      <th>SibSp</th>\n",
       "      <th>Parch</th>\n",
       "      <th>Ticket</th>\n",
       "      <th>Fare</th>\n",
       "      <th>Cabin</th>\n",
       "      <th>Embarked</th>\n",
       "      <th>male</th>\n",
       "      <th>Q</th>\n",
       "      <th>S</th>\n",
       "    </tr>\n",
       "    <tr>\n",
       "      <th>PassengerId</th>\n",
       "      <th></th>\n",
       "      <th></th>\n",
       "      <th></th>\n",
       "      <th></th>\n",
       "      <th></th>\n",
       "      <th></th>\n",
       "      <th></th>\n",
       "      <th></th>\n",
       "      <th></th>\n",
       "      <th></th>\n",
       "      <th></th>\n",
       "      <th></th>\n",
       "      <th></th>\n",
       "      <th></th>\n",
       "    </tr>\n",
       "  </thead>\n",
       "  <tbody>\n",
       "    <tr>\n",
       "      <th>1</th>\n",
       "      <td>0</td>\n",
       "      <td>3</td>\n",
       "      <td>Braund, Mr. Owen Harris</td>\n",
       "      <td>male</td>\n",
       "      <td>22.0</td>\n",
       "      <td>1</td>\n",
       "      <td>0</td>\n",
       "      <td>A/5 21171</td>\n",
       "      <td>7.2500</td>\n",
       "      <td>NaN</td>\n",
       "      <td>S</td>\n",
       "      <td>1</td>\n",
       "      <td>0</td>\n",
       "      <td>1</td>\n",
       "    </tr>\n",
       "    <tr>\n",
       "      <th>2</th>\n",
       "      <td>1</td>\n",
       "      <td>1</td>\n",
       "      <td>Cumings, Mrs. John Bradley (Florence Briggs Th...</td>\n",
       "      <td>female</td>\n",
       "      <td>38.0</td>\n",
       "      <td>1</td>\n",
       "      <td>0</td>\n",
       "      <td>PC 17599</td>\n",
       "      <td>71.2833</td>\n",
       "      <td>C85</td>\n",
       "      <td>C</td>\n",
       "      <td>0</td>\n",
       "      <td>0</td>\n",
       "      <td>0</td>\n",
       "    </tr>\n",
       "    <tr>\n",
       "      <th>3</th>\n",
       "      <td>1</td>\n",
       "      <td>3</td>\n",
       "      <td>Heikkinen, Miss. Laina</td>\n",
       "      <td>female</td>\n",
       "      <td>26.0</td>\n",
       "      <td>0</td>\n",
       "      <td>0</td>\n",
       "      <td>STON/O2. 3101282</td>\n",
       "      <td>7.9250</td>\n",
       "      <td>NaN</td>\n",
       "      <td>S</td>\n",
       "      <td>0</td>\n",
       "      <td>0</td>\n",
       "      <td>1</td>\n",
       "    </tr>\n",
       "    <tr>\n",
       "      <th>4</th>\n",
       "      <td>1</td>\n",
       "      <td>1</td>\n",
       "      <td>Futrelle, Mrs. Jacques Heath (Lily May Peel)</td>\n",
       "      <td>female</td>\n",
       "      <td>35.0</td>\n",
       "      <td>1</td>\n",
       "      <td>0</td>\n",
       "      <td>113803</td>\n",
       "      <td>53.1000</td>\n",
       "      <td>C123</td>\n",
       "      <td>S</td>\n",
       "      <td>0</td>\n",
       "      <td>0</td>\n",
       "      <td>1</td>\n",
       "    </tr>\n",
       "    <tr>\n",
       "      <th>5</th>\n",
       "      <td>0</td>\n",
       "      <td>3</td>\n",
       "      <td>Allen, Mr. William Henry</td>\n",
       "      <td>male</td>\n",
       "      <td>35.0</td>\n",
       "      <td>0</td>\n",
       "      <td>0</td>\n",
       "      <td>373450</td>\n",
       "      <td>8.0500</td>\n",
       "      <td>NaN</td>\n",
       "      <td>S</td>\n",
       "      <td>1</td>\n",
       "      <td>0</td>\n",
       "      <td>1</td>\n",
       "    </tr>\n",
       "  </tbody>\n",
       "</table>\n",
       "</div>"
      ],
      "text/plain": [
       "             Survived  Pclass  \\\n",
       "PassengerId                     \n",
       "1                   0       3   \n",
       "2                   1       1   \n",
       "3                   1       3   \n",
       "4                   1       1   \n",
       "5                   0       3   \n",
       "\n",
       "                                                          Name     Sex   Age  \\\n",
       "PassengerId                                                                    \n",
       "1                                      Braund, Mr. Owen Harris    male  22.0   \n",
       "2            Cumings, Mrs. John Bradley (Florence Briggs Th...  female  38.0   \n",
       "3                                       Heikkinen, Miss. Laina  female  26.0   \n",
       "4                 Futrelle, Mrs. Jacques Heath (Lily May Peel)  female  35.0   \n",
       "5                                     Allen, Mr. William Henry    male  35.0   \n",
       "\n",
       "             SibSp  Parch            Ticket     Fare Cabin Embarked  male  Q  \\\n",
       "PassengerId                                                                    \n",
       "1                1      0         A/5 21171   7.2500   NaN        S     1  0   \n",
       "2                1      0          PC 17599  71.2833   C85        C     0  0   \n",
       "3                0      0  STON/O2. 3101282   7.9250   NaN        S     0  0   \n",
       "4                1      0            113803  53.1000  C123        S     0  0   \n",
       "5                0      0            373450   8.0500   NaN        S     1  0   \n",
       "\n",
       "             S  \n",
       "PassengerId     \n",
       "1            1  \n",
       "2            0  \n",
       "3            1  \n",
       "4            1  \n",
       "5            1  "
      ]
     },
     "execution_count": 4,
     "metadata": {},
     "output_type": "execute_result"
    }
   ],
   "source": [
    "df.head()"
   ]
  },
  {
   "cell_type": "code",
   "execution_count": 5,
   "metadata": {
    "id": "enQ_wbx3UyYs"
   },
   "outputs": [],
   "source": [
    "# create train and test dataframes based on 80% train and 20% test\n",
    "\n",
    "train, test = train_test_split(df, test_size = 0.2, stratify = df['Survived'], random_state = 42)"
   ]
  },
  {
   "cell_type": "code",
   "execution_count": 6,
   "metadata": {
    "id": "tHJUd5vIUyYt"
   },
   "outputs": [],
   "source": [
    "# separating out the independent and dependent variable labels\n",
    "\n",
    "fn = ['Pclass', 'male', 'SibSp', 'Parch', 'Fare', 'Q', 'S']\n",
    "cn = ['Survived']"
   ]
  },
  {
   "cell_type": "code",
   "execution_count": 7,
   "metadata": {
    "id": "Wd7l5crhUyYu"
   },
   "outputs": [],
   "source": [
    "# creating the independent and dependent variables for two\n",
    "# models - logistic regression and classification\n",
    "\n",
    "x_train = train[fn]\n",
    "y_train = train[cn]\n",
    "x_test = test[fn]\n",
    "y_test = test[cn]"
   ]
  },
  {
   "cell_type": "code",
   "execution_count": 8,
   "metadata": {
    "colab": {
     "base_uri": "https://localhost:8080/"
    },
    "id": "CWyCER4sUyYu",
    "outputId": "381d529e-41fe-4601-a90f-a5617043e71a"
   },
   "outputs": [
    {
     "name": "stdout",
     "output_type": "stream",
     "text": [
      "Optimization terminated successfully.\n",
      "         Current function value: 0.491333\n",
      "         Iterations 6\n",
      "                           Logit Regression Results                           \n",
      "==============================================================================\n",
      "Dep. Variable:               Survived   No. Observations:                  712\n",
      "Model:                          Logit   Df Residuals:                      705\n",
      "Method:                           MLE   Df Model:                            6\n",
      "Date:                Mon, 12 Dec 2022   Pseudo R-squ.:                  0.2619\n",
      "Time:                        22:43:39   Log-Likelihood:                -349.83\n",
      "converged:                       True   LL-Null:                       -473.99\n",
      "Covariance Type:            nonrobust   LLR p-value:                 9.362e-51\n",
      "==============================================================================\n",
      "                 coef    std err          z      P>|z|      [0.025      0.975]\n",
      "------------------------------------------------------------------------------\n",
      "Pclass         0.0214      0.092      0.233      0.816      -0.158       0.201\n",
      "male          -2.2078      0.198    -11.162      0.000      -2.596      -1.820\n",
      "SibSp         -0.2376      0.103     -2.311      0.021      -0.439      -0.036\n",
      "Parch         -0.1201      0.119     -1.013      0.311      -0.353       0.112\n",
      "Fare           0.0202      0.003      6.633      0.000       0.014       0.026\n",
      "Q              0.5796      0.404      1.433      0.152      -0.213       1.372\n",
      "S              0.2762      0.237      1.165      0.244      -0.189       0.741\n",
      "==============================================================================\n"
     ]
    }
   ],
   "source": [
    "# logistic regression - we have seen this before\n",
    "\n",
    "LogisticModel = sm.Logit(y_train, x_train).fit()\n",
    "print(LogisticModel.summary())"
   ]
  },
  {
   "cell_type": "code",
   "execution_count": 9,
   "metadata": {
    "colab": {
     "base_uri": "https://localhost:8080/",
     "height": 455
    },
    "id": "1mEL4xN9UyYv",
    "outputId": "79fe4b26-6a78-4dd2-c3b1-8bf343b3d94b"
   },
   "outputs": [
    {
     "data": {
      "text/html": [
       "<div>\n",
       "<style scoped>\n",
       "    .dataframe tbody tr th:only-of-type {\n",
       "        vertical-align: middle;\n",
       "    }\n",
       "\n",
       "    .dataframe tbody tr th {\n",
       "        vertical-align: top;\n",
       "    }\n",
       "\n",
       "    .dataframe thead th {\n",
       "        text-align: right;\n",
       "    }\n",
       "</style>\n",
       "<table border=\"1\" class=\"dataframe\">\n",
       "  <thead>\n",
       "    <tr style=\"text-align: right;\">\n",
       "      <th></th>\n",
       "      <th>Survived</th>\n",
       "      <th>y_hat</th>\n",
       "      <th>difference</th>\n",
       "    </tr>\n",
       "    <tr>\n",
       "      <th>PassengerId</th>\n",
       "      <th></th>\n",
       "      <th></th>\n",
       "      <th></th>\n",
       "    </tr>\n",
       "  </thead>\n",
       "  <tbody>\n",
       "    <tr>\n",
       "      <th>298</th>\n",
       "      <td>0</td>\n",
       "      <td>0.947245</td>\n",
       "      <td>-0.947245</td>\n",
       "    </tr>\n",
       "    <tr>\n",
       "      <th>28</th>\n",
       "      <td>0</td>\n",
       "      <td>0.921375</td>\n",
       "      <td>-0.921375</td>\n",
       "    </tr>\n",
       "    <tr>\n",
       "      <th>502</th>\n",
       "      <td>0</td>\n",
       "      <td>0.690108</td>\n",
       "      <td>-0.690108</td>\n",
       "    </tr>\n",
       "    <tr>\n",
       "      <th>503</th>\n",
       "      <td>0</td>\n",
       "      <td>0.689585</td>\n",
       "      <td>-0.689585</td>\n",
       "    </tr>\n",
       "    <tr>\n",
       "      <th>200</th>\n",
       "      <td>0</td>\n",
       "      <td>0.641556</td>\n",
       "      <td>-0.641556</td>\n",
       "    </tr>\n",
       "    <tr>\n",
       "      <th>...</th>\n",
       "      <td>...</td>\n",
       "      <td>...</td>\n",
       "      <td>...</td>\n",
       "    </tr>\n",
       "    <tr>\n",
       "      <th>490</th>\n",
       "      <td>1</td>\n",
       "      <td>0.129722</td>\n",
       "      <td>0.870278</td>\n",
       "    </tr>\n",
       "    <tr>\n",
       "      <th>456</th>\n",
       "      <td>1</td>\n",
       "      <td>0.120904</td>\n",
       "      <td>0.879096</td>\n",
       "    </tr>\n",
       "    <tr>\n",
       "      <th>554</th>\n",
       "      <td>1</td>\n",
       "      <td>0.119468</td>\n",
       "      <td>0.880532</td>\n",
       "    </tr>\n",
       "    <tr>\n",
       "      <th>870</th>\n",
       "      <td>1</td>\n",
       "      <td>0.119211</td>\n",
       "      <td>0.880789</td>\n",
       "    </tr>\n",
       "    <tr>\n",
       "      <th>66</th>\n",
       "      <td>1</td>\n",
       "      <td>0.100392</td>\n",
       "      <td>0.899608</td>\n",
       "    </tr>\n",
       "  </tbody>\n",
       "</table>\n",
       "<p>179 rows × 3 columns</p>\n",
       "</div>"
      ],
      "text/plain": [
       "             Survived     y_hat  difference\n",
       "PassengerId                                \n",
       "298                 0  0.947245   -0.947245\n",
       "28                  0  0.921375   -0.921375\n",
       "502                 0  0.690108   -0.690108\n",
       "503                 0  0.689585   -0.689585\n",
       "200                 0  0.641556   -0.641556\n",
       "...               ...       ...         ...\n",
       "490                 1  0.129722    0.870278\n",
       "456                 1  0.120904    0.879096\n",
       "554                 1  0.119468    0.880532\n",
       "870                 1  0.119211    0.880789\n",
       "66                  1  0.100392    0.899608\n",
       "\n",
       "[179 rows x 3 columns]"
      ]
     },
     "execution_count": 9,
     "metadata": {},
     "output_type": "execute_result"
    }
   ],
   "source": [
    "# we now use this model to help examine our testing set\n",
    "\n",
    "y_hat = LogisticModel.predict(x_test)\n",
    "compare = pd.concat([y_test, y_hat], axis=1)\n",
    "compare = compare.rename(columns={0: 'y_hat'})\n",
    "compare['difference'] = compare['Survived'] - compare['y_hat']\n",
    "compare.sort_values(by=['difference'])"
   ]
  },
  {
   "cell_type": "code",
   "execution_count": 10,
   "metadata": {
    "colab": {
     "base_uri": "https://localhost:8080/"
    },
    "id": "3eKHG6iSUyYw",
    "outputId": "29df8e0d-38fe-49c6-9132-d14f0e73fb9c"
   },
   "outputs": [
    {
     "name": "stdout",
     "output_type": "stream",
     "text": [
      "Confusion Matrix : \n",
      " [[97 13]\n",
      " [23 46]]\n",
      "Test accuracy =  0.7988826815642458\n"
     ]
    }
   ],
   "source": [
    "prediction = list(map(round, y_hat)) \n",
    "\n",
    "# confusion matrix \n",
    "cm = confusion_matrix(y_test, prediction)  \n",
    "print (\"Confusion Matrix : \\n\", cm)  \n",
    "  \n",
    "# accuracy score of the model \n",
    "print('Test accuracy = ', accuracy_score(y_test, prediction))"
   ]
  },
  {
   "cell_type": "code",
   "execution_count": 11,
   "metadata": {
    "colab": {
     "base_uri": "https://localhost:8080/"
    },
    "id": "PJ3g0146UyYw",
    "outputId": "18f8d342-d27b-47e6-e7df-5d4103d0ce9a"
   },
   "outputs": [
    {
     "name": "stdout",
     "output_type": "stream",
     "text": [
      "True positives:  46\n",
      "True negatives:  97\n",
      "False positives:  13\n",
      "False negatives:  23\n"
     ]
    }
   ],
   "source": [
    "# this is the longer way to generate a confusion matrix\n",
    "# go through the residuals to generate a confusion matrix\n",
    "\n",
    "def rating(difference):\n",
    "    if difference > 0.5:\n",
    "        return \"false negative\"\n",
    "    elif difference >= 0:\n",
    "        return \"true positive\"\n",
    "    elif difference >= -0.5:\n",
    "        return \"true negative\"\n",
    "    else:\n",
    "        return \"false positive\"\n",
    "\n",
    "compare['type'] = compare.apply(lambda x: rating(x['difference']),axis=1)\n",
    "true_positives = compare[compare['type'] == \"true positive\"].count()[\"type\"]\n",
    "true_negatives = compare[compare['type'] == \"true negative\"].count()[\"type\"]\n",
    "false_positives = compare[compare['type'] == \"false positive\"].count()[\"type\"]\n",
    "false_negatives = compare[compare['type'] == \"false negative\"].count()[\"type\"]\n",
    "print(\"True positives: \", true_positives)\n",
    "print(\"True negatives: \", true_negatives)\n",
    "print(\"False positives: \", false_positives)\n",
    "print(\"False negatives: \", false_negatives)\n"
   ]
  },
  {
   "cell_type": "code",
   "execution_count": 12,
   "metadata": {
    "colab": {
     "base_uri": "https://localhost:8080/"
    },
    "id": "aepgm1-_UyYx",
    "outputId": "b9bd168d-7908-4a36-ccd3-0e4e678bf890"
   },
   "outputs": [
    {
     "data": {
      "text/plain": [
       "0.7946640316205534"
      ]
     },
     "execution_count": 12,
     "metadata": {},
     "output_type": "execute_result"
    }
   ],
   "source": [
    "# we haven't seen this before, but we are going to measure\n",
    "# the Receiver Operating Characteristic (ROC)\n",
    "# https://en.wikipedia.org/wiki/Receiver_operating_characteristic\n",
    "\n",
    "roc_auc_score(y_test, y_hat)"
   ]
  },
  {
   "cell_type": "code",
   "execution_count": 13,
   "metadata": {
    "colab": {
     "base_uri": "https://localhost:8080/",
     "height": 295
    },
    "id": "Hkg47w5iUyYy",
    "outputId": "21d1d150-8a93-412a-d403-4554c5f6e7aa"
   },
   "outputs": [
    {
     "data": {
      "image/png": "[encoded data removed]",
      "text/plain": [
       "<Figure size 432x288 with 1 Axes>"
      ]
     },
     "metadata": {
      "needs_background": "light"
     },
     "output_type": "display_data"
    }
   ],
   "source": [
    "# we then take a look at the ROC curve\n",
    "\n",
    "fpr, tpr, threshold = roc_curve(y_test, y_hat)\n",
    "roc_auc = metrics.auc(fpr, tpr)\n",
    "\n",
    "plt.title('Receiver Operating Characteristic')\n",
    "plt.plot(fpr, tpr, 'b', label = 'AUC = %0.2f' % roc_auc)\n",
    "plt.legend(loc = 'lower right')\n",
    "plt.plot([0, 1], [0, 1],'r--')\n",
    "plt.xlim([0, 1])\n",
    "plt.ylim([0, 1])\n",
    "plt.ylabel('True Positive Rate')\n",
    "plt.xlabel('False Positive Rate')\n",
    "plt.show()"
   ]
  }
 ],
 "metadata": {
  "colab": {
   "provenance": []
  },
  "kernelspec": {
   "display_name": "Python 3 (ipykernel)",
   "language": "python",
   "name": "python3"
  },
  "language_info": {
   "codemirror_mode": {
    "name": "ipython",
    "version": 3
   },
   "file_extension": ".py",
   "mimetype": "text/x-python",
   "name": "python",
   "nbconvert_exporter": "python",
   "pygments_lexer": "ipython3",
   "version": "3.9.7"
  }
 },
 "nbformat": 4,
 "nbformat_minor": 4
}
